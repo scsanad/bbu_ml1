{
 "cells": [
  {
   "cell_type": "markdown",
   "metadata": {},
   "source": [
    "# Numpy exercise"
   ]
  },
  {
   "cell_type": "markdown",
   "metadata": {},
   "source": [
    "Suppose you have a dataset which contains tempreture measurements from different parts of a moving car: `engine`, `exhaust pipe`, `breaks`:\n",
    "```\n",
    "       Engine  Exhaust pipe      Breaks\n",
    "0   87.454359    484.136701  159.063172\n",
    "1  125.000000           NaN  143.346484\n",
    "2   81.895101    483.893817         NaN\n",
    "3   82.731238    481.494196  139.393452\n",
    "4   86.087258    592.480628  177.006120\n",
    "5  112.400000    495.917422  190.304417\n",
    "6   86.986207    450.986284  148.849352\n",
    "7   77.435774    499.880549  161.293086\n",
    "8   81.179830    488.378706  157.190646\n",
    "9   85.506349           inf  139.760698\n",
    "```\n",
    "\n",
    "Each row of the matrix contains a separate measurement. \n",
    "\n",
    "As you can see some of the values are faulty. In this exercise you will **clean** and **normalize** the data and **split into train and validation set**.\n"
   ]
  },
  {
   "cell_type": "code",
   "execution_count": 2,
   "metadata": {},
   "outputs": [],
   "source": [
    "# import some libraries\n",
    "import numpy as np\n",
    "import pandas as pd\n",
    "\n",
    "\n",
    "np.random.seed(13)\n",
    "\n",
    "# name of the dataset file\n",
    "ds_file_name = 'ds_1.npy'"
   ]
  },
  {
   "cell_type": "code",
   "execution_count": 3,
   "metadata": {},
   "outputs": [],
   "source": [
    "# print the data nicely\n",
    "def print_dataset(dataset, cols=[\"Engine\", \"Exhaust pipe\", \"Breaks\"]):\n",
    "    df = pd.DataFrame(dataset, columns=cols)\n",
    "    print(df)"
   ]
  },
  {
   "cell_type": "code",
   "execution_count": 4,
   "metadata": {},
   "outputs": [],
   "source": [
    "dataset = np.load(ds_file_name)"
   ]
  },
  {
   "cell_type": "markdown",
   "metadata": {},
   "source": [
    "### Exercise 1: Clean the data (3 points)"
   ]
  },
  {
   "cell_type": "markdown",
   "metadata": {},
   "source": [
    "**1.1** \n",
    "Engine tempreture should be less than 100 °C. Clip the values above 100.0 °C."
   ]
  },
  {
   "cell_type": "code",
   "execution_count": 11,
   "metadata": {},
   "outputs": [],
   "source": [
    "### Your code here ###"
   ]
  },
  {
   "cell_type": "markdown",
   "metadata": {},
   "source": [
    "**1.2** Remove the lines with `inf` values"
   ]
  },
  {
   "cell_type": "code",
   "execution_count": 13,
   "metadata": {},
   "outputs": [],
   "source": [
    "### Your code here ###"
   ]
  },
  {
   "cell_type": "markdown",
   "metadata": {},
   "source": [
    "**1.3** Replace `NaN` values with the mean of the corresponding column"
   ]
  },
  {
   "cell_type": "code",
   "execution_count": 15,
   "metadata": {},
   "outputs": [],
   "source": [
    "### Your code here ###"
   ]
  },
  {
   "cell_type": "markdown",
   "metadata": {},
   "source": [
    "After cleaning the dataset, you should have something like this:\n",
    "\n",
    "```\n",
    "       Engine  Exhaust pipe      Breaks\n",
    "0   87.454359    484.136701  159.063172\n",
    "1  100.000000    497.146038  143.346484\n",
    "2   81.895101    483.893817  159.555841\n",
    "3   82.731238    481.494196  139.393452\n",
    "4   86.087258    592.480628  177.006120\n",
    "5  100.000000    495.917422  190.304417\n",
    "6   86.986207    450.986284  148.849352\n",
    "7   77.435774    499.880549  161.293086\n",
    "8   81.179830    488.378706  157.190646\n",
    "```"
   ]
  },
  {
   "cell_type": "markdown",
   "metadata": {},
   "source": [
    "### Exercise 2: Append new data (0.5 point)"
   ]
  },
  {
   "cell_type": "markdown",
   "metadata": {},
   "source": [
    "**2.1** Suppose you get another 10 meausrements. Append them to the previous dataset."
   ]
  },
  {
   "cell_type": "code",
   "execution_count": 8,
   "metadata": {},
   "outputs": [],
   "source": [
    "# load the new dataset\n",
    "ds2_file_name = 'ds_2.npy'\n",
    "dataset_new = np.load(ds2_file_name)"
   ]
  },
  {
   "cell_type": "code",
   "execution_count": 22,
   "metadata": {},
   "outputs": [],
   "source": [
    "### Your code here ###"
   ]
  },
  {
   "cell_type": "markdown",
   "metadata": {},
   "source": [
    "### Exercise 3: Broadcasting (1 pts)"
   ]
  },
  {
   "cell_type": "markdown",
   "metadata": {},
   "source": [
    "**1.1 Standardize the data**\n",
    "Standardization of datasets is a common requirement for many machine learning estimators; they might behave badly if the individual features (columns this case) do not more or less look like standard normally distributed data: Gaussian with zero mean and unit variance.\n",
    "\n",
    "In practice we often ignore the shape of the distribution and just transform the data to center it by removing the mean value of each feature, then scale it by dividing non-constant features by their standard deviation. (Source: [sklearn-preprocessing](https://scikit-learn.org/stable/modules/preprocessing.html#standardization-or-mean-removal-and-variance-scaling))\n",
    "\n",
    "Calculate the mean and standard deviation of the columns, substract from the columns their mean and divide them by their standard deviation."
   ]
  },
  {
   "cell_type": "code",
   "execution_count": null,
   "metadata": {},
   "outputs": [],
   "source": [
    "### Your code here ###"
   ]
  },
  {
   "cell_type": "markdown",
   "metadata": {},
   "source": [
    "**2.2** Sometimes we have to insert new columns to the data (e.g.: during linear regression we usually have to append a new column to the data containing only 1-s). Append a column to the dataset which contains only 1-s."
   ]
  },
  {
   "cell_type": "code",
   "execution_count": 25,
   "metadata": {},
   "outputs": [],
   "source": [
    "### Your code here ###"
   ]
  },
  {
   "cell_type": "markdown",
   "metadata": {},
   "source": [
    "### Exercise 3: Row/Column shuffle (0.5 pts)"
   ]
  },
  {
   "cell_type": "markdown",
   "metadata": {},
   "source": [
    "Reorder the columns in the dataset: move the column containing ones in the 0-th position and the `Engine` column to the last position"
   ]
  },
  {
   "cell_type": "code",
   "execution_count": 64,
   "metadata": {},
   "outputs": [],
   "source": [
    "### Your code here ###"
   ]
  },
  {
   "cell_type": "markdown",
   "metadata": {},
   "source": [
    "### Exercise 4: Train/val split (1 pts)"
   ]
  },
  {
   "cell_type": "markdown",
   "metadata": {},
   "source": [
    "When you have only one dataset, a common practice is to split the dataset to a train and a validation set, train your model on the train set and evaluate on the validation set. \n",
    "\n",
    "Split your data into a train and a validation set such that 30% of the data remains for validation. Note: split the data randomly, without modifying the original dataset (use random indices to select part of the data)."
   ]
  },
  {
   "cell_type": "code",
   "execution_count": null,
   "metadata": {},
   "outputs": [],
   "source": [
    "### Your code here ###"
   ]
  },
  {
   "cell_type": "markdown",
   "metadata": {},
   "source": [
    "You should get something similar:\n",
    "\n",
    "**Train set:**\n",
    "```\n",
    "         Exhaust pipe      Breaks      Engine\n",
    "0   1.0    497.146038  143.346484  100.000000\n",
    "1   1.0    483.893817  159.555841   81.895101\n",
    "2   1.0    592.480628  177.006120   86.087258\n",
    "3   1.0    499.880549  161.293086   77.435774\n",
    "4   1.0    488.378706  157.190646   81.179830\n",
    "5   1.0    453.583239  166.299909   82.384179\n",
    "6   1.0    461.266998  126.291624   82.593143\n",
    "7   1.0    478.142717  134.627460   75.379203\n",
    "8   1.0    527.395915  164.583309   81.212734\n",
    "9   1.0    523.282899  154.156001   89.611721\n",
    "10  1.0    463.950016  106.257695   83.963252\n",
    "11  1.0    528.113085  164.439301   83.120400\n",
    "12  1.0    484.257096  156.975012   88.199420\n",
    "13  1.0    478.505146  143.227635   95.268466\n",
    "```\n",
    "\n",
    "**Val set:**\n",
    "```\n",
    "        Exhaust pipe      Breaks      Engine\n",
    "0  1.0    484.136701  159.063172   87.454359\n",
    "1  1.0    481.494196  139.393452   82.731238\n",
    "2  1.0    495.917422  190.304417  100.000000\n",
    "3  1.0    450.986284  148.849352   86.986207\n",
    "4  1.0    457.292852  165.318221   87.267405\n",
    "\n",
    "\n",
    "```"
   ]
  },
  {
   "cell_type": "code",
   "execution_count": null,
   "metadata": {},
   "outputs": [],
   "source": []
  }
 ],
 "metadata": {
  "kernelspec": {
   "display_name": "Python 3",
   "language": "python",
   "name": "python3"
  },
  "language_info": {
   "codemirror_mode": {
    "name": "ipython",
    "version": 3
   },
   "file_extension": ".py",
   "mimetype": "text/x-python",
   "name": "python",
   "nbconvert_exporter": "python",
   "pygments_lexer": "ipython3",
   "version": "3.7.3"
  }
 },
 "nbformat": 4,
 "nbformat_minor": 2
}
