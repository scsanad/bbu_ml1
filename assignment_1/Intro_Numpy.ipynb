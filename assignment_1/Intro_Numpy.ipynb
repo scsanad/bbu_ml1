{
 "cells": [
  {
   "cell_type": "markdown",
   "metadata": {
    "colab_type": "text",
    "id": "TK_s931vVvwi"
   },
   "source": [
    "# Numpy\n",
    "\n",
    "\" NumPy is the fundamental package for scientific computing with Python.  It contains among other things:\n",
    "\n",
    "* a powerful N-dimensional array object\n",
    "* sophisticated (broadcasting) functions\n",
    "* useful linear algebra, Fourier transform, and random number capabilities \"\n",
    "\n",
    "\n",
    "-- From the [NumPy](http://www.numpy.org/) landing page.\n",
    "\n"
   ]
  },
  {
   "cell_type": "markdown",
   "metadata": {
    "colab_type": "text",
    "id": "kVwjoPsFGgbH"
   },
   "source": [
    "Before learning about numpy, we introduce..\n",
    "\n",
    "### The NXOR Function\n",
    "\n",
    "Many of the exercises involve working with the  $\\mathrm{NXOR} \\colon \\; [-1, 1]^2  \\rightarrow \\{-1, +1\\}$ function defined as \n",
    "\n",
    "$$ (x_1, x_2) \\longmapsto \\mathrm{sgn}(x_1 \\cdot x_2) .$$\n",
    "\n",
    "where for $x_1 \\cdot x_2 = 0$ we let $\\mathrm{NXOR}(x_1, x_2) = -1$.\n",
    "\n",
    "We can visualize this function as\n",
    "\n",
    "![A set of points in \\[-1, +1\\]^2 with green and red markers denoting the value assigned to them by the NXOR function](https://github.com/tmlss2018/PracticalSessions/blob/master/assets/nxor_labels.png?raw=true)\n",
    "\n",
    "where each point in $ [-1, 1]^2$ is marked by green (+1) or red (-1) according to the value assigned to it by the NXOR function.\n",
    "\n",
    "\n"
   ]
  },
  {
   "cell_type": "markdown",
   "metadata": {
    "colab_type": "text",
    "id": "9HfKNF9JG3Sg"
   },
   "source": [
    "\n",
    "Over the course of the intro lab exercises we will\n",
    "\n",
    "1. Generate such data with numpy.\n",
    "2. Create the plot above with matplotlib.\n"
   ]
  },
  {
   "cell_type": "markdown",
   "metadata": {
    "colab_type": "text",
    "id": "psAhyeala4Qa"
   },
   "source": [
    "### Setup and imports. Run the following cell."
   ]
  },
  {
   "cell_type": "code",
   "execution_count": 1,
   "metadata": {
    "colab": {},
    "colab_type": "code",
    "id": "jJmfT0IMa494"
   },
   "outputs": [],
   "source": [
    "import numpy as np"
   ]
  },
  {
   "cell_type": "markdown",
   "metadata": {
    "colab_type": "text",
    "id": "209T8819ws6R"
   },
   "source": [
    "### Random numbers in numpy"
   ]
  },
  {
   "cell_type": "code",
   "execution_count": 4,
   "metadata": {
    "colab": {
     "base_uri": "https://localhost:8080/",
     "height": 71
    },
    "colab_type": "code",
    "id": "HPoRLRxdwyHs",
    "outputId": "4d166286-cc6f-4221-a86e-4140a003044c"
   },
   "outputs": [
    {
     "data": {
      "text/plain": [
       "array([[0.68330049, 0.92649742],\n",
       "       [0.13376549, 0.76981388],\n",
       "       [0.69913179, 0.26721756]])"
      ]
     },
     "execution_count": 4,
     "metadata": {},
     "output_type": "execute_result"
    }
   ],
   "source": [
    "np.random.random((3, 2))  # Array of shape (3, 2), entries uniform in [0, 1)."
   ]
  },
  {
   "cell_type": "markdown",
   "metadata": {
    "colab_type": "text",
    "id": "d1xeqjN_eGrM"
   },
   "source": [
    "Note that (as usual in computing) numpy produces pseudo-random numbers based on a seed, or more precisely a random state. In order to make random sequences and calculations based on reproducible, use\n",
    "\n",
    "* the [`np.random.seed()`](https://docs.scipy.org/doc/numpy/reference/generated/numpy.random.seed.html) function to set the default global seed, or\n",
    "* the [`np.random.RandomState`](https://docs.scipy.org/doc/numpy/reference/generated/numpy.random.RandomState.html) class which is a container for a pseudo-random number generator and exposes methods for generating random numbers.\n"
   ]
  },
  {
   "cell_type": "code",
   "execution_count": 5,
   "metadata": {
    "colab": {
     "base_uri": "https://localhost:8080/",
     "height": 53
    },
    "colab_type": "code",
    "id": "knUtcFWoFqK0",
    "outputId": "2676bd0a-898d-4c37-bc7e-4a67dc7da825"
   },
   "outputs": [
    {
     "name": "stdout",
     "output_type": "stream",
     "text": [
      "[0.5488135  0.71518937]\n",
      "[0.5488135  0.71518937]\n"
     ]
    }
   ],
   "source": [
    "np.random.seed(0)\n",
    "print(np.random.random(2))\n",
    "# Reset the global random state to the same state.\n",
    "np.random.seed(0)\n",
    "print(np.random.random(2))"
   ]
  },
  {
   "cell_type": "markdown",
   "metadata": {
    "colab_type": "text",
    "id": "Tz435THaxePN"
   },
   "source": [
    "### Numpy Array Operations 1\n",
    "\n",
    "There are a large number of operations you can run on any numpy array. Here we showcase some common ones."
   ]
  },
  {
   "cell_type": "code",
   "execution_count": 6,
   "metadata": {
    "colab": {
     "height": 215
    },
    "colab_type": "code",
    "id": "YZbsqkyXxgUo",
    "outputId": "d8c7ecdf-2681-49e1-eb3f-c73d5c2793d3"
   },
   "outputs": [
    {
     "name": "stdout",
     "output_type": "stream",
     "text": [
      "The array:\n",
      " [[0.  0.2]\n",
      " [0.9 0.5]\n",
      " [0.3 0.7]]\n",
      "\n",
      "data type float64\n",
      "transpose\n",
      " [[0.  0.9 0.3]\n",
      " [0.2 0.5 0.7]]\n",
      "shape (3, 2)\n",
      "reshaping an array [0.  0.2 0.9 0.5 0.3 0.7]\n"
     ]
    }
   ],
   "source": [
    "# Create one from hard-coded data:\n",
    "ar = np.array([\n",
    "    [0.0, 0.2],\n",
    "    [0.9, 0.5],\n",
    "    [0.3, 0.7],\n",
    "], dtype=np.float64)  # float64 is the default.\n",
    "\n",
    "print('The array:\\n', ar)\n",
    "print()\n",
    "\n",
    "print('data type', ar.dtype)\n",
    "print('transpose\\n', ar.T)\n",
    "print('shape', ar.shape)\n",
    "print('reshaping an array', ar.reshape((6)))\n",
    "\n"
   ]
  },
  {
   "cell_type": "markdown",
   "metadata": {
    "colab_type": "text",
    "id": "s5wC8i8_4WBf"
   },
   "source": [
    "Many numpy operations are available both as np module functions as well as array methods. For example, we can also reshape as"
   ]
  },
  {
   "cell_type": "code",
   "execution_count": 7,
   "metadata": {
    "colab": {
     "height": 125
    },
    "colab_type": "code",
    "id": "AjGy5myl4jxo",
    "outputId": "3d93238b-0c6c-4998-c9d3-61ee84d73491"
   },
   "outputs": [
    {
     "name": "stdout",
     "output_type": "stream",
     "text": [
      "reshape v2 [[0. ]\n",
      " [0.2]\n",
      " [0.9]\n",
      " [0.5]\n",
      " [0.3]\n",
      " [0.7]]\n"
     ]
    }
   ],
   "source": [
    "print('reshape v2', np.reshape(ar, (6, 1)))"
   ]
  },
  {
   "cell_type": "markdown",
   "metadata": {
    "colab_type": "text",
    "id": "Tt4G37QAGWl4"
   },
   "source": [
    "### Numpy Indexing and selectors\n",
    "\n",
    "Here are some basic indexing examples from numpy."
   ]
  },
  {
   "cell_type": "code",
   "execution_count": 8,
   "metadata": {
    "colab": {
     "height": 71
    },
    "colab_type": "code",
    "id": "4Bbdmb0BGXPc",
    "outputId": "adb57a4d-5bbc-46c8-b8a3-8c28babcc526"
   },
   "outputs": [
    {
     "data": {
      "text/plain": [
       "array([[0. , 0.2],\n",
       "       [0.9, 0.5],\n",
       "       [0.3, 0.7]])"
      ]
     },
     "execution_count": 8,
     "metadata": {},
     "output_type": "execute_result"
    }
   ],
   "source": [
    "ar"
   ]
  },
  {
   "cell_type": "code",
   "execution_count": 9,
   "metadata": {
    "colab": {
     "height": 35
    },
    "colab_type": "code",
    "id": "6lk0NQGGGpRK",
    "outputId": "cf7c88f2-5d23-45d7-dde5-069d1dacd0b6"
   },
   "outputs": [
    {
     "data": {
      "text/plain": [
       "0.2"
      ]
     },
     "execution_count": 9,
     "metadata": {},
     "output_type": "execute_result"
    }
   ],
   "source": [
    "ar[0, 1]  # row, column"
   ]
  },
  {
   "cell_type": "code",
   "execution_count": 10,
   "metadata": {
    "colab": {
     "height": 35
    },
    "colab_type": "code",
    "id": "Eh1zKgqMGpa-",
    "outputId": "15e0c3d1-17cc-437c-915e-783e7f0ece82"
   },
   "outputs": [
    {
     "data": {
      "text/plain": [
       "array([0.2, 0.5, 0.7])"
      ]
     },
     "execution_count": 10,
     "metadata": {},
     "output_type": "execute_result"
    }
   ],
   "source": [
    "ar[:, 1]  # slices: select all elements across the first (0th) axis."
   ]
  },
  {
   "cell_type": "code",
   "execution_count": 11,
   "metadata": {
    "colab": {
     "height": 35
    },
    "colab_type": "code",
    "id": "QVo9SdiWSZqn",
    "outputId": "f9ba4ed8-b2d8-4cf1-836a-2b0c1834cacd"
   },
   "outputs": [
    {
     "data": {
      "text/plain": [
       "array([0.5])"
      ]
     },
     "execution_count": 11,
     "metadata": {},
     "output_type": "execute_result"
    }
   ],
   "source": [
    "ar[1:2, 1]  # slices with syntax from:to, selecting [from, to)."
   ]
  },
  {
   "cell_type": "code",
   "execution_count": 12,
   "metadata": {
    "colab": {
     "height": 35
    },
    "colab_type": "code",
    "id": "n64DQFr7Subs",
    "outputId": "3b07c5d9-2fdd-4756-df4f-61f8f56769b9"
   },
   "outputs": [
    {
     "data": {
      "text/plain": [
       "array([0.5, 0.7])"
      ]
     },
     "execution_count": 12,
     "metadata": {},
     "output_type": "execute_result"
    }
   ],
   "source": [
    "ar[1:, 1]  # Omit `to` to go all the way to the end"
   ]
  },
  {
   "cell_type": "code",
   "execution_count": 13,
   "metadata": {
    "colab": {
     "height": 35
    },
    "colab_type": "code",
    "id": "Uq7bmNPVTD2B",
    "outputId": "9906745e-425f-4bea-ba01-3fbceb8c5ccb"
   },
   "outputs": [
    {
     "data": {
      "text/plain": [
       "array([0.2, 0.5])"
      ]
     },
     "execution_count": 13,
     "metadata": {},
     "output_type": "execute_result"
    }
   ],
   "source": [
    "ar[:2, 1]  # Omit `from` to start from the beginning"
   ]
  },
  {
   "cell_type": "code",
   "execution_count": 14,
   "metadata": {
    "colab": {
     "height": 35
    },
    "colab_type": "code",
    "id": "uJ7A1vVWTKQc",
    "outputId": "b36388c7-15ed-4e05-8450-2af284c0d3e1"
   },
   "outputs": [
    {
     "data": {
      "text/plain": [
       "array([0.2, 0.5])"
      ]
     },
     "execution_count": 14,
     "metadata": {},
     "output_type": "execute_result"
    }
   ],
   "source": [
    "ar[0:-1, 1]  # Use negative indexing to count elements from the back."
   ]
  },
  {
   "cell_type": "markdown",
   "metadata": {
    "colab_type": "text",
    "id": "CVizP583IolT"
   },
   "source": [
    "We can also pass boolean arrays as indices. These will exactly define which elements to select."
   ]
  },
  {
   "cell_type": "code",
   "execution_count": 15,
   "metadata": {
    "colab": {
     "height": 35
    },
    "colab_type": "code",
    "id": "-91q2Si7IBGN",
    "outputId": "6527af01-583f-43dc-ecff-9a894689a25e"
   },
   "outputs": [
    {
     "data": {
      "text/plain": [
       "array([0. , 0.5, 0.3])"
      ]
     },
     "execution_count": 15,
     "metadata": {},
     "output_type": "execute_result"
    }
   ],
   "source": [
    "ar[np.array([\n",
    "    [True, False],\n",
    "    [False, True],\n",
    "    [True, False],\n",
    "])]"
   ]
  },
  {
   "cell_type": "markdown",
   "metadata": {
    "colab_type": "text",
    "id": "g9VttyKZI2aX"
   },
   "source": [
    "Boolean arrays can be created with logical operations, then used as selectors. Logical operators apply elementwise."
   ]
  },
  {
   "cell_type": "code",
   "execution_count": 16,
   "metadata": {
    "colab": {
     "height": 71
    },
    "colab_type": "code",
    "id": "KyH_50JVIWOK",
    "outputId": "8317ec82-a6aa-46ec-fd2c-34016fb69cf7"
   },
   "outputs": [
    {
     "data": {
      "text/plain": [
       "array([[ 0. , -inf],\n",
       "       [ 0.9,  0.5],\n",
       "       [-inf,  0.7]])"
      ]
     },
     "execution_count": 16,
     "metadata": {},
     "output_type": "execute_result"
    }
   ],
   "source": [
    "ar_2 = np.array([   # Nearly the same as ar\n",
    "    [0.0, 0.1],\n",
    "    [0.9, 0.5],\n",
    "    [0.0, 0.7],\n",
    "])\n",
    "\n",
    "# Where ar_2 is smaller than ar, let ar_2 be -inf.\n",
    "ar_2[ar_2 < ar] = -np.inf\n",
    "ar_2"
   ]
  },
  {
   "cell_type": "markdown",
   "metadata": {
    "colab_type": "text",
    "id": "-GwBK4LJGpjK"
   },
   "source": [
    "### Numpy Operations 2"
   ]
  },
  {
   "cell_type": "code",
   "execution_count": 17,
   "metadata": {
    "colab": {
     "height": 179
    },
    "colab_type": "code",
    "id": "gHElhCDy4SrG",
    "outputId": "bd4ae4ac-e1d9-4dd8-80f7-96f6ed9b0425"
   },
   "outputs": [
    {
     "name": "stdout",
     "output_type": "stream",
     "text": [
      "array:\n",
      " [[0.  0.2]\n",
      " [0.9 0.5]\n",
      " [0.3 0.7]]\n",
      "\n",
      "sum across axis 0 (rows): [1.2 1.4]\n",
      "mean 0.43333333333333335\n",
      "min 0.0\n",
      "row-wise min [0.  0.5 0.3]\n"
     ]
    }
   ],
   "source": [
    "print('array:\\n', ar)\n",
    "print()\n",
    "\n",
    "print('sum across axis 0 (rows):', ar.sum(axis=0))\n",
    "print('mean', ar.mean())\n",
    "print('min', ar.min())\n",
    "print('row-wise min', ar.min(axis=1))\n"
   ]
  },
  {
   "cell_type": "markdown",
   "metadata": {
    "colab_type": "text",
    "id": "bSNi0aLs03J1"
   },
   "source": [
    "We can also take element-wise minimums between two arrays.\n",
    "\n",
    "We may want to do this when \"clipping\" values in a matrix, that is, setting any values larger than, say, 0.6, to 0.6. We would do this in numpy with..\n",
    "\n",
    "### Broadcasting (and selectors)"
   ]
  },
  {
   "cell_type": "code",
   "execution_count": 18,
   "metadata": {
    "colab": {
     "height": 71
    },
    "colab_type": "code",
    "id": "GLCN0umLxuLv",
    "outputId": "267a0ab2-0c11-4583-c198-9e6d8d886983"
   },
   "outputs": [
    {
     "data": {
      "text/plain": [
       "array([[0. , 0.2],\n",
       "       [0.6, 0.5],\n",
       "       [0.3, 0.6]])"
      ]
     },
     "execution_count": 18,
     "metadata": {},
     "output_type": "execute_result"
    }
   ],
   "source": [
    "np.minimum(ar, 0.6)"
   ]
  },
  {
   "cell_type": "markdown",
   "metadata": {
    "colab_type": "text",
    "id": "Kmq7Yf_73GgC"
   },
   "source": [
    "Numpy automatically turns the scalar 0.6 into an array the same size as `ar` in order to take element-wise minimum.\n",
    "\n"
   ]
  },
  {
   "cell_type": "markdown",
   "metadata": {
    "colab_type": "text",
    "id": "vkM1cL-pBrEE"
   },
   "source": [
    "Broadcasting can save us a lot of typing, but in complicated cases it may require a good understanding of the exact rules followed.\n",
    "\n",
    "Some references:\n",
    "\n",
    "* [Numpy page that explains broadcasting](https://docs.scipy.org/doc/numpy-1.13.0/user/basics.broadcasting.html)\n",
    "* [Similar content with some visualizations](http://scipy.github.io/old-wiki/pages/EricsBroadcastingDoc)\n",
    "\n",
    "Here we follow with a selection of other useful broadcasting examples.\n"
   ]
  },
  {
   "cell_type": "code",
   "execution_count": 19,
   "metadata": {
    "colab": {
     "height": 89
    },
    "colab_type": "code",
    "id": "S52hBSnG5JRa",
    "outputId": "37525b66-113a-43d1-e426-8176b0672ba1"
   },
   "outputs": [
    {
     "name": "stdout",
     "output_type": "stream",
     "text": [
      "centered array:\n",
      " [[-0.43333333 -0.23333333]\n",
      " [ 0.46666667  0.06666667]\n",
      " [-0.13333333  0.26666667]]\n"
     ]
    }
   ],
   "source": [
    "# Centering our array.\n",
    "print('centered array:\\n', ar - np.mean(ar)) "
   ]
  },
  {
   "cell_type": "markdown",
   "metadata": {
    "colab_type": "text",
    "id": "mS5IDFrA6ig3"
   },
   "source": [
    "Note that `np.mean()` was a scalar, but it is automatically subtracted from every element.\n"
   ]
  },
  {
   "cell_type": "markdown",
   "metadata": {
    "colab_type": "text",
    "id": "KzlVmOY_FPhQ"
   },
   "source": [
    "We can write the minimum function ourselves, as well."
   ]
  },
  {
   "cell_type": "code",
   "execution_count": 20,
   "metadata": {
    "colab": {
     "height": 71
    },
    "colab_type": "code",
    "id": "zatGgBsOFNdF",
    "outputId": "9cb31429-9ded-469c-f3ac-24bd331a549a"
   },
   "outputs": [
    {
     "data": {
      "text/plain": [
       "array([[0. , 0.2],\n",
       "       [0.6, 0.5],\n",
       "       [0.3, 0.6]])"
      ]
     },
     "execution_count": 20,
     "metadata": {},
     "output_type": "execute_result"
    }
   ],
   "source": [
    "clipped_ar = ar.copy()  # So that ar is not modified.\n",
    "clipped_ar[clipped_ar > 0.6] = 0.6\n",
    "clipped_ar"
   ]
  },
  {
   "cell_type": "markdown",
   "metadata": {
    "colab_type": "text",
    "id": "SnDqUDgtFyF5"
   },
   "source": [
    "A few things happened here:\n",
    "\n",
    "1. 0.6 was broadcast in for the greater than (>) operation\n",
    "2. The greater than operation defined a selector, selecting a subset of the elements of the array\n",
    "3. 0.6 was broadcast to the right number of elements for assignment."
   ]
  },
  {
   "cell_type": "markdown",
   "metadata": {
    "colab_type": "text",
    "id": "QzLtiYXUFN5P"
   },
   "source": [
    "Vectors may also be broadcast into matrices."
   ]
  },
  {
   "cell_type": "code",
   "execution_count": 21,
   "metadata": {
    "colab": {
     "height": 71
    },
    "colab_type": "code",
    "id": "n2gv3YVf5JZL",
    "outputId": "012fd424-9776-43c2-dc6a-8c845f1f6dc1"
   },
   "outputs": [
    {
     "data": {
      "text/plain": [
       "array([[1. , 2.2],\n",
       "       [1.9, 2.5],\n",
       "       [1.3, 2.7]])"
      ]
     },
     "execution_count": 21,
     "metadata": {},
     "output_type": "execute_result"
    }
   ],
   "source": [
    "vec = np.array([1, 2])\n",
    "ar + vec"
   ]
  },
  {
   "cell_type": "markdown",
   "metadata": {
    "colab_type": "text",
    "id": "7ehzlV8J75ar"
   },
   "source": [
    "Here the shapes of the involved arrays are:\n",
    "```\n",
    "ar     (2d array):  2 x 2\n",
    "vec    (1d array):      2\n",
    "Result (2d array):  2 x 2\n",
    "```\n",
    "\n",
    "When either of the dimensions compared is one (even implicitly, like in the case of `vec`), the other is used. In other words, dimensions with size 1 are stretched or “copied” to match the other.\n",
    "\n",
    "Here, this meant that the `[1, 2]` row was repeated to match the number of rows in `ar`, then added together.\n"
   ]
  },
  {
   "cell_type": "markdown",
   "metadata": {
    "colab_type": "text",
    "id": "bBLjzt84A2ZL"
   },
   "source": [
    "If there is a shape mismatch, you will be informed. To try, uncomment the line below and run it."
   ]
  },
  {
   "cell_type": "code",
   "execution_count": 22,
   "metadata": {
    "colab": {},
    "colab_type": "code",
    "id": "sViqTRjXAWhN"
   },
   "outputs": [],
   "source": [
    "#ar + np.array([[1, 2, 3]])"
   ]
  },
  {
   "cell_type": "markdown",
   "metadata": {
    "colab_type": "text",
    "id": "K4pvND75AWuG"
   },
   "source": [
    "#### Exercise\n",
    "\n",
    "Broadcast and add the vector `[10, 20, 30]` across the columns of `ar`. \n",
    "\n",
    "You should get \n",
    "```\n",
    "array([[10. , 10.2],\n",
    "       [20.9, 20.5],\n",
    "       [30.3, 30.7]])\n",
    " ```\n"
   ]
  },
  {
   "cell_type": "code",
   "execution_count": 23,
   "metadata": {
    "colab": {},
    "colab_type": "code",
    "id": "AgnJiYHm_ENT"
   },
   "outputs": [],
   "source": [
    "# Recall that you can use vec.shape to verify that your array has the\n",
    "# shape you expect.\n",
    "\n",
    "### Your code here ###"
   ]
  },
  {
   "cell_type": "markdown",
   "metadata": {
    "colab_type": "text",
    "id": "ZHGWztEX99vd"
   },
   "source": [
    "### `np.newaxis`\n",
    "\n",
    "We can use another numpy feature, `np.newaxis` to simply form the column vector that was required for the example above. It adds a singleton dimension to arrays at the desired location:"
   ]
  },
  {
   "cell_type": "code",
   "execution_count": 24,
   "metadata": {
    "colab": {
     "height": 35
    },
    "colab_type": "code",
    "id": "ac9tsc4e5JhA",
    "outputId": "0d3ee092-3142-444a-abcc-1addfe0b06ff"
   },
   "outputs": [
    {
     "data": {
      "text/plain": [
       "(2,)"
      ]
     },
     "execution_count": 24,
     "metadata": {},
     "output_type": "execute_result"
    }
   ],
   "source": [
    "vec = np.array([1, 2])\n",
    "vec.shape"
   ]
  },
  {
   "cell_type": "code",
   "execution_count": 25,
   "metadata": {
    "colab": {
     "height": 35
    },
    "colab_type": "code",
    "id": "WpG-B92VCNAL",
    "outputId": "a5a0341b-5b81-4f74-f161-0fa14a0844ae"
   },
   "outputs": [
    {
     "data": {
      "text/plain": [
       "(1, 2)"
      ]
     },
     "execution_count": 25,
     "metadata": {},
     "output_type": "execute_result"
    }
   ],
   "source": [
    "vec[np.newaxis, :].shape"
   ]
  },
  {
   "cell_type": "code",
   "execution_count": 26,
   "metadata": {
    "colab": {
     "height": 35
    },
    "colab_type": "code",
    "id": "YdbrkV1OCz8V",
    "outputId": "f86fdf30-1158-4c5c-9d08-421dca4d3c76"
   },
   "outputs": [
    {
     "data": {
      "text/plain": [
       "(2, 1)"
      ]
     },
     "execution_count": 26,
     "metadata": {},
     "output_type": "execute_result"
    }
   ],
   "source": [
    "vec[:, np.newaxis].shape"
   ]
  }
 ],
 "metadata": {
  "colab": {
   "collapsed_sections": [],
   "name": "Intro: Numpy.ipynb",
   "provenance": [],
   "toc_visible": true,
   "version": "0.3.2"
  },
  "kernelspec": {
   "display_name": "Python 3",
   "language": "python",
   "name": "python3"
  },
  "language_info": {
   "codemirror_mode": {
    "name": "ipython",
    "version": 3
   },
   "file_extension": ".py",
   "mimetype": "text/x-python",
   "name": "python",
   "nbconvert_exporter": "python",
   "pygments_lexer": "ipython3",
   "version": "3.7.3"
  }
 },
 "nbformat": 4,
 "nbformat_minor": 1
}
